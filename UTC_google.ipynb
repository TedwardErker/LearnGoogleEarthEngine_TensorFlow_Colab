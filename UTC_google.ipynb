{
  "nbformat": 4,
  "nbformat_minor": 0,
  "metadata": {
    "colab": {
      "name": "UTC_google.ipynb",
      "provenance": [],
      "collapsed_sections": [
        "tdVvl-SIy-ZH",
        "fO1pRDjfzwX2",
        "DlRd3JIEHWzO",
        "QqUcQlkRIDOS"
      ],
      "toc_visible": true,
      "authorship_tag": "ABX9TyM+c7Peyn4licEkZWyTW5wl",
      "include_colab_link": true
    },
    "kernelspec": {
      "name": "python3",
      "display_name": "Python 3"
    }
  },
  "cells": [
    {
      "cell_type": "markdown",
      "metadata": {
        "id": "view-in-github",
        "colab_type": "text"
      },
      "source": [
        "<a href=\"https://colab.research.google.com/github/TedwardErker/LearnGoogleEarthEngine_TensorFlow_Colab/blob/master/UTC_google.ipynb\" target=\"_parent\"><img src=\"https://colab.research.google.com/assets/colab-badge.svg\" alt=\"Open In Colab\"/></a>"
      ]
    },
    {
      "cell_type": "markdown",
      "metadata": {
        "id": "UXCEnQiEmEXZ",
        "colab_type": "text"
      },
      "source": [
        "# Urban Trees via Google Earth Engine and Tensorflow on Google Collab"
      ]
    },
    {
      "cell_type": "markdown",
      "metadata": {
        "id": "tdVvl-SIy-ZH",
        "colab_type": "text"
      },
      "source": [
        "## Notebook goals\n"
      ]
    },
    {
      "cell_type": "markdown",
      "metadata": {
        "id": "G06QLgpHnQZV",
        "colab_type": "text"
      },
      "source": [
        "This notebook has several goals.\n",
        "\n",
        "Further technical skills:\n",
        "- learn how to use Google Colab\n",
        "- learn how to use Python's Google Earth Engine API\n",
        "- learn how to train a convolutional neural network with Tensorflow\n",
        "\n",
        "Further mission:\n",
        "- Map urban tree canopy change in two wisconsin counties, Milwaukee and Marathon\n",
        "- Map urban tree canopy cover in Madison, WI\n",
        "- Stretch: maps for all cities in the lower 48\n",
        "\n"
      ]
    },
    {
      "cell_type": "markdown",
      "metadata": {
        "id": "jZ8z8K9cyyFs",
        "colab_type": "text"
      },
      "source": [
        "### some links to resources\n",
        "- [Google Earth Engine Documentation](https://developers.google.com/earth-engine)\n",
        "- [Google Earth Engine API collab setup](https://colab.research.google.com/github/google/earthengine-api/blob/master/python/examples/ipynb/ee-api-colab-setup.ipynb#scrollTo=LAZiVi13zTE7)\n"
      ]
    },
    {
      "cell_type": "markdown",
      "metadata": {
        "id": "fO1pRDjfzwX2",
        "colab_type": "text"
      },
      "source": [
        "# Plan"
      ]
    },
    {
      "cell_type": "markdown",
      "metadata": {
        "id": "cTHL4tCi4QBk",
        "colab_type": "text"
      },
      "source": [
        "- Set up google earth engine to this collab\n",
        "- Upload training data for marathon county to google earth engine\n",
        "- Build simple classifier using just one year of NAIP, assess results\n",
        "- Upload the lidar derived height raster to google earth engine\n",
        "- Add the height layer as a feature\n",
        "- Build simple classifier and asses results\n",
        "- Upload the Marathon Water layers to google earth engine\n",
        "- Add water layers as a features\n",
        "- Build simple classifier and assess results\n"
      ]
    },
    {
      "cell_type": "markdown",
      "metadata": {
        "id": "KPY4j_DDEVc-",
        "colab_type": "text"
      },
      "source": [
        "# Test set up\n",
        "follow [Google Earth Engine API colab setup](https://colab.research.google.com/github/google/earthengine-api/blob/master/python/examples/ipynb/ee-api-colab-setup.ipynb#scrollTo=LAZiVi13zTE7)\n"
      ]
    },
    {
      "cell_type": "code",
      "metadata": {
        "id": "Rn5Btw3EE252",
        "colab_type": "code",
        "colab": {}
      },
      "source": [
        "import ee\n",
        "\n",
        "# Trigger the authentication flow.\n",
        "#ee.Authenticate()\n",
        "\n",
        "# Initialize the library.\n",
        "ee.Initialize()"
      ],
      "execution_count": 0,
      "outputs": []
    },
    {
      "cell_type": "markdown",
      "metadata": {
        "id": "8DR6jMH_FV_Q",
        "colab_type": "text"
      },
      "source": [
        "### test the API\n"
      ]
    },
    {
      "cell_type": "code",
      "metadata": {
        "id": "n4xIHGVIFSD4",
        "colab_type": "code",
        "colab": {
          "base_uri": "https://localhost:8080/",
          "height": 34
        },
        "outputId": "882ccce3-b01e-4ced-9e17-8d0679e0817c"
      },
      "source": [
        "# Print the elevation of Mount Everest.\n",
        "dem = ee.Image('USGS/SRTMGL1_003')\n",
        "xy = ee.Geometry.Point([86.9250, 27.9881])\n",
        "elev = dem.sample(xy, 30).first().get('elevation').getInfo()\n",
        "print('Mount Everest elevation (m):', elev)"
      ],
      "execution_count": 6,
      "outputs": [
        {
          "output_type": "stream",
          "text": [
            "Mount Everest elevation (m): 8729\n"
          ],
          "name": "stdout"
        }
      ]
    },
    {
      "cell_type": "markdown",
      "metadata": {
        "id": "DlRd3JIEHWzO",
        "colab_type": "text"
      },
      "source": [
        "### Test interactive Map"
      ]
    },
    {
      "cell_type": "code",
      "metadata": {
        "id": "SFxjt1NaHYqB",
        "colab_type": "code",
        "colab": {}
      },
      "source": [
        "# Import the Folium library.\n",
        "import folium\n",
        "\n",
        "# Define a method for displaying Earth Engine image tiles to folium map.\n",
        "def add_ee_layer(self, ee_image_object, vis_params, name):\n",
        "  map_id_dict = ee.Image(ee_image_object).getMapId(vis_params)\n",
        "  folium.raster_layers.TileLayer(\n",
        "    tiles = map_id_dict['tile_fetcher'].url_format,\n",
        "    attr = 'Map Data &copy; <a href=\"https://earthengine.google.com/\">Google Earth Engine</a>',\n",
        "    name = name,\n",
        "    overlay = True,\n",
        "    control = True\n",
        "  ).add_to(self)\n",
        "\n",
        "# Add EE drawing method to folium.\n",
        "folium.Map.add_ee_layer = add_ee_layer\n",
        "\n",
        "# Set visualization parameters.\n",
        "vis_params = {\n",
        "  'min': 0,\n",
        "  'max': 4000,\n",
        "  'palette': ['006633', 'E5FFCC', '662A00', 'D8D8D8', 'F5F5F5']}\n",
        "\n",
        "# Create a folium map object.\n",
        "my_map = folium.Map(location=[20, 0], zoom_start=3, height=500)\n",
        "\n",
        "# Add the elevation model to the map object.\n",
        "my_map.add_ee_layer(dem.updateMask(dem.gt(0)), vis_params, 'DEM')\n",
        "\n",
        "# Add a layer control panel to the map.\n",
        "my_map.add_child(folium.LayerControl())\n",
        "\n",
        "# Display the map.\n",
        "display(my_map)"
      ],
      "execution_count": 0,
      "outputs": []
    },
    {
      "cell_type": "markdown",
      "metadata": {
        "id": "QqUcQlkRIDOS",
        "colab_type": "text"
      },
      "source": [
        "### Chart Visualization\n",
        "\n",
        "see also [charting in colaboratory](https://colab.sandbox.google.com/notebooks/charts.ipynb)\n"
      ]
    },
    {
      "cell_type": "code",
      "metadata": {
        "id": "zuAHnAc0IP9M",
        "colab_type": "code",
        "colab": {
          "base_uri": "https://localhost:8080/",
          "height": 284
        },
        "outputId": "264fb595-1cee-4212-e27c-699e024e7de9"
      },
      "source": [
        "# Import the matplotlib.pyplot module.\n",
        "import matplotlib.pyplot as plt\n",
        "\n",
        "# Fetch a Landsat image.\n",
        "img = ee.Image('LANDSAT/LT05/C01/T1_SR/LT05_034033_20000913')\n",
        "\n",
        "# Select Red and NIR bands, scale them, and sample 500 points.\n",
        "samp_fc = img.select(['B3','B4']).divide(10000).sample(scale=30, numPixels=500)\n",
        "\n",
        "# Arrange the sample as a list of lists.\n",
        "samp_dict = samp_fc.reduceColumns(ee.Reducer.toList().repeat(2), ['B3', 'B4'])\n",
        "samp_list = ee.List(samp_dict.get('list'))\n",
        "\n",
        "# Save server-side ee.List as a client-side Python list.\n",
        "samp_data = samp_list.getInfo()\n",
        "\n",
        "# Display a scatter plot of Red-NIR sample pairs using matplotlib.\n",
        "plt.scatter(samp_data[0], samp_data[1], alpha=0.2)\n",
        "plt.xlabel('Red', fontsize=12)\n",
        "plt.ylabel('NIR', fontsize=12)\n",
        "plt.show()"
      ],
      "execution_count": 8,
      "outputs": [
        {
          "output_type": "display_data",
          "data": {
            "image/png": "[encoded data removed]",
            "text/plain": [
              "<Figure size 432x288 with 1 Axes>"
            ]
          },
          "metadata": {
            "tags": [],
            "needs_background": "light"
          }
        }
      ]
    },
    {
      "cell_type": "markdown",
      "metadata": {
        "id": "d8u79S2jInwr",
        "colab_type": "text"
      },
      "source": [
        "# Load Marathon Training Data\n",
        "\n",
        "These are in a shapefile that I've created using R."
      ]
    }
  ]
}