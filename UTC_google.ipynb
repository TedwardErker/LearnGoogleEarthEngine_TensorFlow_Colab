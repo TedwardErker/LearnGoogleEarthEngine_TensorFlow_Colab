{
  "nbformat": 4,
  "nbformat_minor": 0,
  "metadata": {
    "colab": {
      "name": "UTC_google.ipynb",
      "provenance": [],
      "collapsed_sections": [],
      "toc_visible": true,
      "authorship_tag": "ABX9TyMytgtIXL4d+64OfgoszHNC",
      "include_colab_link": true
    },
    "kernelspec": {
      "name": "python3",
      "display_name": "Python 3"
    }
  },
  "cells": [
    {
      "cell_type": "markdown",
      "metadata": {
        "id": "view-in-github",
        "colab_type": "text"
      },
      "source": [
        "<a href=\"https://colab.research.google.com/github/TedwardErker/LearnGoogleEarthEngine_TensorFlow_Colab/blob/master/UTC_google.ipynb\" target=\"_parent\"><img src=\"https://colab.research.google.com/assets/colab-badge.svg\" alt=\"Open In Colab\"/></a>"
      ]
    },
    {
      "cell_type": "markdown",
      "metadata": {
        "id": "mqdQw330mA74",
        "colab_type": "text"
      },
      "source": [
        "\n",
        "\n",
        "```\n",
        "# This is formatted as code\n",
        "```\n",
        "\n"
      ]
    },
    {
      "cell_type": "markdown",
      "metadata": {
        "id": "UXCEnQiEmEXZ",
        "colab_type": "text"
      },
      "source": [
        "# Urban Trees via Google Earth Engine and Tensorflow on Google Collab"
      ]
    },
    {
      "cell_type": "markdown",
      "metadata": {
        "id": "tdVvl-SIy-ZH",
        "colab_type": "text"
      },
      "source": [
        "## Notebook goals\n"
      ]
    },
    {
      "cell_type": "markdown",
      "metadata": {
        "id": "G06QLgpHnQZV",
        "colab_type": "text"
      },
      "source": [
        "This notebook has several goals.\n",
        "\n",
        "Further technical skills:\n",
        "- learn how to use Google Colab\n",
        "- learn how to use Python's Google Earth Engine API\n",
        "- learn how to train a convolutional neural network with Tensorflow\n",
        "\n",
        "Further mission:\n",
        "- Map urban tree canopy change in two wisconsin counties, Milwaukee and Marathon\n",
        "- Map urban tree canopy cover in Madison, WI\n",
        "- Stretch: maps for all cities in the lower 48\n",
        "\n"
      ]
    },
    {
      "cell_type": "markdown",
      "metadata": {
        "id": "jZ8z8K9cyyFs",
        "colab_type": "text"
      },
      "source": [
        "### some links to resources\n",
        "- [Google Earth Engine Documentation](https://developers.google.com/earth-engine)\n",
        "- [Google Earth Engine API collab setup](https://colab.research.google.com/github/google/earthengine-api/blob/master/python/examples/ipynb/ee-api-colab-setup.ipynb#scrollTo=LAZiVi13zTE7)\n"
      ]
    },
    {
      "cell_type": "markdown",
      "metadata": {
        "id": "fO1pRDjfzwX2",
        "colab_type": "text"
      },
      "source": [
        "#Plan"
      ]
    },
    {
      "cell_type": "markdown",
      "metadata": {
        "id": "cTHL4tCi4QBk",
        "colab_type": "text"
      },
      "source": [
        "- Set up google earth engine to this collab\n",
        "- Upload training data for marathon county to google earth engine\n",
        "- Build simple classifier using just one year of NAIP, assess results\n",
        "- Upload the lidar derived height raster to google earth engine\n",
        "- Add the height layer as a feature\n",
        "- Build simple classifier and asses results\n",
        "- Upload the Marathon Water layers to google earth engine\n",
        "- Add water layers as a features\n",
        "- Build simple classifier and assess results\n"
      ]
    },
    {
      "cell_type": "markdown",
      "metadata": {
        "id": "KPY4j_DDEVc-",
        "colab_type": "text"
      },
      "source": [
        "# Set up\n",
        "follow [Google Earth Engine API colab setup](https://colab.research.google.com/github/google/earthengine-api/blob/master/python/examples/ipynb/ee-api-colab-setup.ipynb#scrollTo=LAZiVi13zTE7)\n"
      ]
    },
    {
      "cell_type": "code",
      "metadata": {
        "id": "Rn5Btw3EE252",
        "colab_type": "code",
        "colab": {}
      },
      "source": [
        "import ee\n",
        "\n",
        "# Trigger the authentication flow.\n",
        "#ee.Authenticate()\n",
        "\n",
        "# Initialize the library.\n",
        "ee.Initialize()"
      ],
      "execution_count": 0,
      "outputs": []
    },
    {
      "cell_type": "markdown",
      "metadata": {
        "id": "8DR6jMH_FV_Q",
        "colab_type": "text"
      },
      "source": [
        "test the API\n"
      ]
    },
    {
      "cell_type": "code",
      "metadata": {
        "id": "n4xIHGVIFSD4",
        "colab_type": "code",
        "colab": {
          "base_uri": "https://localhost:8080/",
          "height": 34
        },
        "outputId": "882ccce3-b01e-4ced-9e17-8d0679e0817c"
      },
      "source": [
        "# Print the elevation of Mount Everest.\n",
        "dem = ee.Image('USGS/SRTMGL1_003')\n",
        "xy = ee.Geometry.Point([86.9250, 27.9881])\n",
        "elev = dem.sample(xy, 30).first().get('elevation').getInfo()\n",
        "print('Mount Everest elevation (m):', elev)"
      ],
      "execution_count": 6,
      "outputs": [
        {
          "output_type": "stream",
          "text": [
            "Mount Everest elevation (m): 8729\n"
          ],
          "name": "stdout"
        }
      ]
    }
  ]
}